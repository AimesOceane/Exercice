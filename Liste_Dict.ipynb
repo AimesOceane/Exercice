{
 "cells": [
  {
   "cell_type": "markdown",
   "metadata": {},
   "source": [
    "Test de manipulation des Listes et Dictionnaire"
   ]
  },
  {
   "cell_type": "markdown",
   "metadata": {},
   "source": [
    "Objectif : Extraire les données d'une liste / dictionnaires sans aucune librairie "
   ]
  },
  {
   "cell_type": "code",
   "execution_count": 1,
   "metadata": {},
   "outputs": [],
   "source": [
    "# Version Liste\n",
    "anime_prefere = [\n",
    "    \"Gurren Lagann\",\n",
    "    \"Kill la Kill\",\n",
    "    \"Promare\",\n",
    "    \"Brand New Animal\",\n",
    "    \"Luluco Space Parol\",\n",
    "    \"Little Witch Academia\",\n",
    "    \"Mob Psycho 100\",\n",
    "    \"One Punch Man\",\n",
    "    \"Cyberpunk Edgerunner\",\n",
    "    \"Space Dandy\",\n",
    "    \"Jojo Bizarre Adventure\",\n",
    "    \"Panty and Stocking\",\n",
    "    \"Kiznaiver\",\n",
    "]\n"
   ]
  },
  {
   "cell_type": "code",
   "execution_count": 2,
   "metadata": {},
   "outputs": [
    {
     "data": {
      "text/plain": [
       "['Brand New Animal',\n",
       " 'Luluco Space Parol',\n",
       " 'Little Witch Academia',\n",
       " 'Mob Psycho 100',\n",
       " 'One Punch Man',\n",
       " 'Cyberpunk Edgerunner',\n",
       " 'Space Dandy',\n",
       " 'Jojo Bizarre Adventure',\n",
       " 'Panty and Stocking',\n",
       " 'Kiznaiver']"
      ]
     },
     "execution_count": 2,
     "metadata": {},
     "output_type": "execute_result"
    }
   ],
   "source": [
    "#Cut une liste a partir de i jusqu'à fin\n",
    "\n",
    "anime_prefere_cut1 = anime_prefere\n",
    "\n",
    "anime_prefere_cut1 [3::]"
   ]
  },
  {
   "cell_type": "code",
   "execution_count": 3,
   "metadata": {},
   "outputs": [
    {
     "data": {
      "text/plain": [
       "['Kill la Kill',\n",
       " 'Promare',\n",
       " 'Brand New Animal',\n",
       " 'Luluco Space Parol',\n",
       " 'Little Witch Academia',\n",
       " 'Mob Psycho 100',\n",
       " 'One Punch Man',\n",
       " 'Cyberpunk Edgerunner',\n",
       " 'Space Dandy']"
      ]
     },
     "execution_count": 3,
     "metadata": {},
     "output_type": "execute_result"
    }
   ],
   "source": [
    "#Cut une liste a partir de i jusqu'à j\n",
    "\n",
    "anime_prefere_cut2 = anime_prefere\n",
    "\n",
    "anime_prefere_cut2 [1:10]"
   ]
  },
  {
   "cell_type": "code",
   "execution_count": 4,
   "metadata": {},
   "outputs": [
    {
     "data": {
      "text/plain": [
       "['Brand New Animal',\n",
       " 'Cyberpunk Edgerunner',\n",
       " 'Gurren Lagann',\n",
       " 'Jojo Bizarre Adventure',\n",
       " 'Kill la Kill',\n",
       " 'Kiznaiver',\n",
       " 'Little Witch Academia',\n",
       " 'Luluco Space Parol',\n",
       " 'Mob Psycho 100',\n",
       " 'One Punch Man',\n",
       " 'Panty and Stocking',\n",
       " 'Promare',\n",
       " 'Space Dandy']"
      ]
     },
     "execution_count": 4,
     "metadata": {},
     "output_type": "execute_result"
    }
   ],
   "source": [
    "#Trier par oldre Alphabetique \n",
    "\n",
    "anime_prefere.sort()\n",
    "anime_prefere"
   ]
  },
  {
   "cell_type": "code",
   "execution_count": 5,
   "metadata": {},
   "outputs": [
    {
     "data": {
      "text/plain": [
       "5"
      ]
     },
     "execution_count": 5,
     "metadata": {},
     "output_type": "execute_result"
    }
   ],
   "source": [
    "# Rechercher l'index d'une valeur / à partir de l'indice 3\n",
    "\n",
    "anime_prefere.index(\"Space Dandy\")\n",
    "anime_prefere.index(\"Kiznaiver\", 3)\n"
   ]
  },
  {
   "cell_type": "code",
   "execution_count": 6,
   "metadata": {},
   "outputs": [
    {
     "data": {
      "text/plain": [
       "['Brand New Animal',\n",
       " 'Cyberpunk Edgerunner',\n",
       " 'Gurren Lagann',\n",
       " 'Jojo Bizarre Adventure',\n",
       " 'Kill la Kill',\n",
       " 'Kiznaiver',\n",
       " 'Little Witch Academia',\n",
       " 'Luluco Space Parol',\n",
       " 'Mob Psycho 100',\n",
       " 'One Punch Man',\n",
       " 'Panty and Stocking',\n",
       " 'Promare',\n",
       " 'Space Dandy',\n",
       " 'Inferno Cop']"
      ]
     },
     "execution_count": 6,
     "metadata": {},
     "output_type": "execute_result"
    }
   ],
   "source": [
    "#Rajouter la valeur \"Inferno Cop\"\n",
    "\n",
    "anime_prefere.append(\"Inferno Cop\")\n",
    "anime_prefere"
   ]
  },
  {
   "cell_type": "code",
   "execution_count": 7,
   "metadata": {},
   "outputs": [
    {
     "data": {
      "text/plain": [
       "'Promare'"
      ]
     },
     "execution_count": 7,
     "metadata": {},
     "output_type": "execute_result"
    }
   ],
   "source": [
    "#Supprimer avec pop() la valeur à l'indice 11\n",
    "\n",
    "anime_prefere.pop(11)"
   ]
  },
  {
   "cell_type": "markdown",
   "metadata": {},
   "source": [
    "# Refaire la meme chose mais avec les dictionnaires "
   ]
  },
  {
   "cell_type": "code",
   "execution_count": 8,
   "metadata": {},
   "outputs": [],
   "source": [
    "# Version Dict\n",
    "jeux_prefere = {\n",
    "    \"Massive Monster\": \"Cult of the lamb\",\n",
    "    \"Toby Fox\": \"Undertale\",\n",
    "    \"Future Cat LLC\": \"OneShot\",\n",
    "    \"Team Salvato\": \"Doki Doki Litterature Club\",\n",
    "    \"ThatGameCompany\": \"Journey\",\n",
    "    \"Team Cherry\": \"Hollow Knight\",\n",
    "    \"Valve\": \"Portal\",\n",
    "    \"Riot Games\": \"League of Legends\",\n",
    "    \"Blizzard\": \"Overwatch\",\n",
    "    \"Platinum Games \": \"Nier Automata\",\n",
    "    \"BlueTwelve Studio\": \"Stray\",\n",
    "    \"Nintendo\":\"Mario Galaxy\",\n",
    "    \"Nomada Studio\": \"Gris\"\n",
    "\n",
    "}\n"
   ]
  },
  {
   "cell_type": "code",
   "execution_count": 9,
   "metadata": {},
   "outputs": [
    {
     "name": "stdout",
     "output_type": "stream",
     "text": [
      "Massive Monster Cult of the lamb\n",
      "Toby Fox Undertale\n",
      "Future Cat LLC OneShot\n",
      "Team Salvato Doki Doki Litterature Club\n",
      "ThatGameCompany Journey\n",
      "Team Cherry Hollow Knight\n",
      "Valve Portal\n",
      "Riot Games League of Legends\n",
      "Blizzard Overwatch\n",
      "Platinum Games  Nier Automata\n",
      "BlueTwelve Studio Stray\n",
      "Nintendo Mario Galaxy\n",
      "Nomada Studio Gris\n"
     ]
    }
   ],
   "source": [
    "#faire une boucle sur un dict, la clé et valeur associée peut etre récupérées en meme temps par items() \n",
    "\n",
    "for m, o in jeux_prefere.items():\n",
    "    print(m, o)"
   ]
  },
  {
   "cell_type": "code",
   "execution_count": 10,
   "metadata": {},
   "outputs": [
    {
     "name": "stdout",
     "output_type": "stream",
     "text": [
      "0 Massive Monster\n",
      "1 Toby Fox\n",
      "2 Future Cat LLC\n",
      "3 Team Salvato\n",
      "4 ThatGameCompany\n",
      "5 Team Cherry\n",
      "6 Valve\n",
      "7 Riot Games\n",
      "8 Blizzard\n",
      "9 Platinum Games \n",
      "10 BlueTwelve Studio\n",
      "11 Nintendo\n",
      "12 Nomada Studio\n"
     ]
    }
   ],
   "source": [
    "#faire une boucle sur une sequence la position et la valeur associée peuvent etre récupérées en meme temps par enumerate()\n",
    "\n",
    "for i, v in enumerate(jeux_prefere):\n",
    "    print(i ,v)"
   ]
  },
  {
   "cell_type": "code",
   "execution_count": 11,
   "metadata": {},
   "outputs": [
    {
     "name": "stdout",
     "output_type": "stream",
     "text": [
      "Blizzard\n",
      "BlueTwelve Studio\n",
      "Future Cat LLC\n",
      "Massive Monster\n",
      "Nintendo\n",
      "Nomada Studio\n",
      "Platinum Games \n",
      "Riot Games\n",
      "Team Cherry\n",
      "Team Salvato\n",
      "ThatGameCompany\n",
      "Toby Fox\n",
      "Valve\n"
     ]
    }
   ],
   "source": [
    "# Trier par ordre alphabetique les clés\n",
    "\n",
    "for i in sorted(jeux_prefere):\n",
    "    print(i)\n"
   ]
  },
  {
   "cell_type": "code",
   "execution_count": 12,
   "metadata": {},
   "outputs": [
    {
     "data": {
      "text/plain": [
       "'Mario Galaxy'"
      ]
     },
     "execution_count": 12,
     "metadata": {},
     "output_type": "execute_result"
    }
   ],
   "source": [
    "# Recupere une valeur et si la clé est introuvable on peut retourner une valeur par default\n",
    "\n",
    "jeux_prefere.get(\"Nintendo\")\n"
   ]
  },
  {
   "cell_type": "code",
   "execution_count": 13,
   "metadata": {},
   "outputs": [
    {
     "data": {
      "text/plain": [
       "'Game not found'"
      ]
     },
     "execution_count": 13,
     "metadata": {},
     "output_type": "execute_result"
    }
   ],
   "source": [
    "jeux_prefere.get(\"Untitled Goose Game\", \"Game not found\")\n"
   ]
  },
  {
   "cell_type": "code",
   "execution_count": 14,
   "metadata": {},
   "outputs": [
    {
     "data": {
      "text/plain": [
       "{'Massive Monster': 'Cult of the lamb',\n",
       " 'Toby Fox': 'Undertale',\n",
       " 'Future Cat LLC': 'OneShot',\n",
       " 'Team Salvato': 'Doki Doki Litterature Club',\n",
       " 'ThatGameCompany': 'Journey',\n",
       " 'Team Cherry': 'Hollow Knight',\n",
       " 'Valve': 'Portal',\n",
       " 'Riot Games': 'League of Legends',\n",
       " 'Blizzard': 'Overwatch',\n",
       " 'Platinum Games ': 'Nier Automata',\n",
       " 'BlueTwelve Studio': 'Stray',\n",
       " 'Nintendo': 'Mario Galaxy',\n",
       " 'Nomada Studio': 'Gris',\n",
       " 'Moon studio': 'Ori dans the blind forest',\n",
       " 'Tarsier Studio': 'Little Nightmare'}"
      ]
     },
     "execution_count": 14,
     "metadata": {},
     "output_type": "execute_result"
    }
   ],
   "source": [
    "# ajouter des valeurs\n",
    "\n",
    "jeux_prefere[\"Moon studio\"] = \"Ori dans the blind forest\"\n",
    "jeux_prefere[\"Tarsier Studio\"] = \"Little Nightmare\"\n",
    "jeux_prefere\n"
   ]
  },
  {
   "cell_type": "code",
   "execution_count": 15,
   "metadata": {},
   "outputs": [
    {
     "data": {
      "text/plain": [
       "{'Massive Monster': 'Cult of the lamb',\n",
       " 'Toby Fox': 'Undertale',\n",
       " 'Future Cat LLC': 'OneShot',\n",
       " 'Team Salvato': 'Doki Doki Litterature Club',\n",
       " 'ThatGameCompany': 'Journey',\n",
       " 'Team Cherry': 'Hollow Knight',\n",
       " 'Valve': 'Portal',\n",
       " 'Blizzard': 'Overwatch',\n",
       " 'Platinum Games ': 'Nier Automata',\n",
       " 'BlueTwelve Studio': 'Stray',\n",
       " 'Nintendo': 'Mario Galaxy',\n",
       " 'Nomada Studio': 'Gris',\n",
       " 'Moon studio': 'Ori dans the blind forest',\n",
       " 'Tarsier Studio': 'Little Nightmare'}"
      ]
     },
     "execution_count": 15,
     "metadata": {},
     "output_type": "execute_result"
    }
   ],
   "source": [
    "# supprimer une entrée \n",
    "\n",
    "jeux_prefere_del = jeux_prefere\n",
    "\n",
    "del jeux_prefere_del[\"Riot Games\"]\n",
    "jeux_prefere_del"
   ]
  },
  {
   "cell_type": "code",
   "execution_count": 16,
   "metadata": {},
   "outputs": [
    {
     "name": "stdout",
     "output_type": "stream",
     "text": [
      "Cult of the lamb\n",
      "Undertale\n",
      "OneShot\n",
      "Doki Doki Litterature Club\n",
      "Journey\n",
      "Hollow Knight\n",
      "Portal\n",
      "Overwatch\n",
      "Nier Automata\n",
      "Stray\n",
      "Mario Galaxy\n",
      "Gris\n",
      "Ori dans the blind forest\n",
      "Little Nightmare\n"
     ]
    }
   ],
   "source": [
    "# récupérer les valeurs à l'aide d'une boucle par values ()\n",
    "\n",
    "for valeur in jeux_prefere.values():\n",
    "    print(valeur)"
   ]
  },
  {
   "cell_type": "code",
   "execution_count": 17,
   "metadata": {},
   "outputs": [
    {
     "name": "stdout",
     "output_type": "stream",
     "text": [
      "Massive Monster\n",
      "Toby Fox\n",
      "Future Cat LLC\n",
      "Team Salvato\n",
      "ThatGameCompany\n",
      "Team Cherry\n",
      "Valve\n",
      "Blizzard\n",
      "Platinum Games \n",
      "BlueTwelve Studio\n",
      "Nintendo\n",
      "Nomada Studio\n",
      "Moon studio\n",
      "Tarsier Studio\n"
     ]
    }
   ],
   "source": [
    "# récupérer les clé à l'aide d'une boucle par keys ()\n",
    "\n",
    "for cle in jeux_prefere.keys():\n",
    "    print(cle)"
   ]
  },
  {
   "cell_type": "code",
   "execution_count": 18,
   "metadata": {},
   "outputs": [
    {
     "name": "stdout",
     "output_type": "stream",
     "text": [
      "Massive Monster Cult of the lamb\n",
      "Toby Fox Undertale\n",
      "Future Cat LLC OneShot\n",
      "Team Salvato Doki Doki Litterature Club\n",
      "ThatGameCompany Journey\n",
      "Team Cherry Hollow Knight\n",
      "Valve Portal\n",
      "Blizzard Overwatch\n",
      "Platinum Games  Nier Automata\n",
      "BlueTwelve Studio Stray\n",
      "Nintendo Mario Galaxy\n",
      "Nomada Studio Gris\n",
      "Moon studio Ori dans the blind forest\n",
      "Tarsier Studio Little Nightmare\n"
     ]
    }
   ],
   "source": [
    "# récupérer les clés et les valeurs d'un dictionnaire python avec items() ATTENTION sa retourne un tuple (non modifiable)\n",
    "\n",
    "for cle, valeur in jeux_prefere.items():\n",
    "    print(cle, valeur)"
   ]
  }
 ],
 "metadata": {
  "kernelspec": {
   "display_name": "Python 3.10.4 64-bit",
   "language": "python",
   "name": "python3"
  },
  "language_info": {
   "codemirror_mode": {
    "name": "ipython",
    "version": 3
   },
   "file_extension": ".py",
   "mimetype": "text/x-python",
   "name": "python",
   "nbconvert_exporter": "python",
   "pygments_lexer": "ipython3",
   "version": "3.10.4"
  },
  "orig_nbformat": 4,
  "vscode": {
   "interpreter": {
    "hash": "916dbcbb3f70747c44a77c7bcd40155683ae19c65e1c03b4aa3499c5328201f1"
   }
  }
 },
 "nbformat": 4,
 "nbformat_minor": 2
}
